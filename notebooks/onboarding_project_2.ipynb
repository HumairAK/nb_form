{
 "cells": [
  {
   "cell_type": "markdown",
   "id": "7cd72c0b-725a-4d97-8930-bfd0d143d8bd",
   "metadata": {
    "tags": []
   },
   "source": [
    "# Onboard a project to Operate First Cloud\n",
    "\n",
    "This is a notebook that automates the onboarding project process. Onboarding a project means provisioning namespaces for your team on one of the Operate First Clusters. You will decide on a quota, the cluster you need access to, and a list of GitHub users that will need access to these namespaces.\n",
    "\n",
    "Please fill out the form below as needed."
   ]
  },
  {
   "cell_type": "code",
   "execution_count": 1,
   "id": "9e9e654e-04cf-4572-a46c-274c5744a7ad",
   "metadata": {},
   "outputs": [],
   "source": [
    "clusters = !cd /tmp && kustomize build https://github.com/operate-first/apps/acm/overlays/moc/infra/managedclusters?ref=master | yq e -N '.metadata.name' -"
   ]
  },
  {
   "cell_type": "code",
   "execution_count": 2,
   "id": "8318dfb5-760e-49e5-9001-277b1d7f71a1",
   "metadata": {
    "tags": []
   },
   "outputs": [],
   "source": [
    "envs = !curl -sX GET https://api.github.com/repos/operate-first/apps/contents/argocd/overlays/moc-infra/applications/envs | yq e '.[].name' -"
   ]
  },
  {
   "cell_type": "code",
   "execution_count": 1,
   "id": "dd669144-42e9-4c5e-bca6-74d7154f000d",
   "metadata": {
    "tags": []
   },
   "outputs": [
    {
     "data": {
      "application/vnd.jupyter.widget-view+json": {
       "model_id": "f3a1384abe9d4d4a842808f1c6465316",
       "version_major": 2,
       "version_minor": 0
      },
      "text/plain": [
       "VBox(children=(Dropdown(description='Cluster:', options=('balrog', 'curator', 'demo', 'morty', 'ocp-prod', 'oc…"
      ]
     },
     "metadata": {},
     "output_type": "display_data"
    }
   ],
   "source": [
    "from forms.example import generate_form\n",
    "\n",
    "clusters=['balrog', 'curator', 'demo', 'morty', 'ocp-prod', 'ocp-staging', 'osc-cl1', 'osc-cl2', 'rick', 'smaug'] \n",
    "envs= ['dev', 'emea', 'moc', 'octo', 'osc']\n",
    "\n",
    "box = generate_form(clusters, envs)\n",
    "display(box)"
   ]
  },
  {
   "cell_type": "code",
   "execution_count": null,
   "id": "8ea60df9-0c52-4218-88f2-6daaacc76f0d",
   "metadata": {},
   "outputs": [],
   "source": []
  },
  {
   "cell_type": "code",
   "execution_count": null,
   "id": "619f6d77-41d2-4b65-a8c3-fd26c2d8bfac",
   "metadata": {},
   "outputs": [],
   "source": []
  }
 ],
 "metadata": {
  "kernelspec": {
   "display_name": "Python 3 (ipykernel)",
   "language": "python",
   "name": "python3"
  },
  "language_info": {
   "codemirror_mode": {
    "name": "ipython",
    "version": 3
   },
   "file_extension": ".py",
   "mimetype": "text/x-python",
   "name": "python",
   "nbconvert_exporter": "python",
   "pygments_lexer": "ipython3",
   "version": "3.8.10"
  }
 },
 "nbformat": 4,
 "nbformat_minor": 5
}
