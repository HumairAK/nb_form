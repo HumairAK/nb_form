{
 "cells": [
  {
   "cell_type": "code",
   "execution_count": 1,
   "id": "0434dcb0-efd4-4fe1-99b2-3ea75da18f05",
   "metadata": {},
   "outputs": [
    {
     "data": {
      "application/vnd.jupyter.widget-view+json": {
       "model_id": "2eeb67a58cbd46ec96e3eb9789f2b0e0",
       "version_major": 2,
       "version_minor": 0
      },
      "text/plain": [
       "VBox(children=(Dropdown(description='Cluster:', options=('balrog', 'curator', 'demo', 'morty', 'ocp-prod', 'oc…"
      ]
     },
     "metadata": {},
     "output_type": "display_data"
    }
   ],
   "source": [
    "from forms.form_generator import generate_form\n",
    "\n",
    "clusters = ['balrog', 'curator', 'demo', 'morty', 'ocp-prod', 'ocp-staging', 'osc-cl1', 'osc-cl2', 'rick', 'smaug']\n",
    "envs = ['dev', 'emea', 'moc', 'octo', 'osc']\n",
    "\n",
    "form, spec = generate_form(clusters, envs)\n",
    "\n",
    "display(form)"
   ]
  },
  {
   "cell_type": "code",
   "execution_count": 3,
   "id": "0ddc1787-0856-4198-9419-898b68014710",
   "metadata": {},
   "outputs": [
    {
     "name": "stdout",
     "output_type": "stream",
     "text": [
      "env: dev\n",
      "namespaces:\n",
      "- custom_quota:\n",
      "    count/objectbucketclaims.objectbucket.io: 4\n",
      "    limits.cpu: '2'\n",
      "    limits.memory: '4'\n",
      "    requests.cpu: 2Gi\n",
      "    requests.memory: 4Gi\n",
      "    requests.storage: 8Gi\n",
      "  disable_limit_range: 'false'\n",
      "  enable_monitoring: 'false'\n",
      "  name: Your-Namespace-Name\n",
      "  project_display_name: display-name\n",
      "  quota: small\n",
      "- custom_quota:\n",
      "    count/objectbucketclaims.objectbucket.io: 4\n",
      "    limits.cpu: '2'\n",
      "    limits.memory: '4'\n",
      "    requests.cpu: 2Gi\n",
      "    requests.memory: 4Gi\n",
      "    requests.storage: 8Gi\n",
      "  disable_limit_range: 'false'\n",
      "  enable_monitoring: 'false'\n",
      "  name: Your-Namespace-Name\n",
      "  project_display_name: display-name\n",
      "  quota: small\n",
      "project_description: your project description here\n",
      "target_cluster: balrog\n",
      "team_name: team-name\n",
      "users:\n",
      "- github-username\n",
      "\n"
     ]
    }
   ],
   "source": [
    "import yaml\n",
    "with open('output.yaml') as file:\n",
    "    doc = yaml.load(file, Loader=yaml.FullLoader)\n",
    "    sort_file = yaml.dump(doc, sort_keys=True)\n",
    "    print(sort_file)"
   ]
  },
  {
   "cell_type": "code",
   "execution_count": null,
   "id": "7c9d10d4-f434-4d32-8c46-360403d1398b",
   "metadata": {},
   "outputs": [],
   "source": []
  }
 ],
 "metadata": {
  "kernelspec": {
   "display_name": "Python 3 (ipykernel)",
   "language": "python",
   "name": "python3"
  },
  "language_info": {
   "codemirror_mode": {
    "name": "ipython",
    "version": 3
   },
   "file_extension": ".py",
   "mimetype": "text/x-python",
   "name": "python",
   "nbconvert_exporter": "python",
   "pygments_lexer": "ipython3",
   "version": "3.10.4"
  }
 },
 "nbformat": 4,
 "nbformat_minor": 5
}
